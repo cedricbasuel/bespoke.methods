{
 "cells": [
  {
   "cell_type": "code",
   "execution_count": 103,
   "metadata": {
    "collapsed": true
   },
   "outputs": [],
   "source": [
    "import json\n",
    "import urllib\n",
    "import requests\n",
    "import pandas"
   ]
  },
  {
   "cell_type": "code",
   "execution_count": 109,
   "metadata": {
    "collapsed": false
   },
   "outputs": [],
   "source": [
    "homey = \"https://api.forecast.io/forecast/e4e240cd2d14ce803d6102e6d2329209/42.3601,-71.0589\"\n",
    "la_homey = requests.get(homey)"
   ]
  },
  {
   "cell_type": "code",
   "execution_count": 111,
   "metadata": {
    "collapsed": false
   },
   "outputs": [
    {
     "name": "stdout",
     "output_type": "stream",
     "text": [
      "{\"latitude\":42.3601,\"longitude\":-71.0589,\"timezone\":\"America/New_York\",\"offset\":-4,\"currently\":{\"time\":1475515464,\"summary\":\"Partly Cloudy\",\"icon\":\"partly-cloudy-day\",\"nearestStormDistance\":97,\"nearestStormBearing\":349,\"precipIntensity\":0,\"precipProbability\":0,\"temperature\":67.62,\"apparentTemperature\":67.62,\"dewPoint\":57.54,\"humidity\":0.7,\"windSpeed\":3.7,\"windBearing\":62,\"visibility\":9.51,\"cloudCover\":0.32,\"pressure\":1016.51,\"ozone\":256.27},\"minutely\":{\"summary\":\"Partly cloudy for the hour.\",\"icon\":\"partly-cloudy-day\",\"data\":[{\"time\":1475515440,\"precipIntensity\":0,\"precipProbability\":0},{\"time\":1475515500,\"precipIntensity\":0,\"precipProbability\":0},{\"time\":1475515560,\"precipIntensity\":0,\"precipProbability\":0},{\"time\":1475515620,\"precipIntensity\":0,\"precipProbability\":0},{\"time\":1475515680,\"precipIntensity\":0,\"precipProbability\":0},{\"time\":1475515740,\"precipIntensity\":0,\"precipProbability\":0},{\"time\":1475515800,\"precipIntensity\":0,\"precipProbability\":0},{\"time\":1475515860,\"precipIntensity\":0,\"precipProbability\":0},{\"time\":1475515920,\"precipIntensity\":0,\"precipProbability\":0},{\"time\":1475515980,\"precipIntensity\":0,\"precipProbability\":0},{\"time\":1475516040,\"precipIntensity\":0,\"precipProbability\":0},{\"time\":1475516100,\"precipIntensity\":0,\"precipProbability\":0},{\"time\":1475516160,\"precipIntensity\":0,\"precipProbability\":0},{\"time\":1475516220,\"precipIntensity\":0,\"precipProbability\":0},{\"time\":1475516280,\"precipIntensity\":0,\"precipProbability\":0},{\"time\":1475516340,\"precipIntensity\":0,\"precipProbability\":0},{\"time\":1475516400,\"precipIntensity\":0,\"precipProbability\":0},{\"time\":1475516460,\"precipIntensity\":0,\"precipProbability\":0},{\"time\":1475516520,\"precipIntensity\":0,\"precipProbability\":0},{\"time\":1475516580,\"precipIntensity\":0,\"precipProbability\":0},{\"time\":1475516640,\"precipIntensity\":0,\"precipProbability\":0},{\"time\":1475516700,\"precipIntensity\":0,\"precipProbability\":0},{\"time\":1475516760,\"precipIntensity\":0,\"precipProbability\":0},{\"time\":1475516820,\"precipIntensity\":0,\"precipProbability\":0},{\"time\":1475516880,\"precipIntensity\":0,\"precipProbability\":0},{\"time\":1475516940,\"precipIntensity\":0,\"precipProbability\":0},{\"time\":1475517000,\"precipIntensity\":0,\"precipProbability\":0},{\"time\":1475517060,\"precipIntensity\":0,\"precipProbability\":0},{\"time\":1475517120,\"precipIntensity\":0,\"precipProbability\":0},{\"time\":1475517180,\"precipIntensity\":0,\"precipProbability\":0},{\"time\":1475517240,\"precipIntensity\":0,\"precipProbability\":0},{\"time\":1475517300,\"precipIntensity\":0,\"precipProbability\":0},{\"time\":1475517360,\"precipIntensity\":0,\"precipProbability\":0},{\"time\":1475517420,\"precipIntensity\":0,\"precipProbability\":0},{\"time\":1475517480,\"precipIntensity\":0,\"precipProbability\":0},{\"time\":1475517540,\"precipIntensity\":0,\"precipProbability\":0},{\"time\":1475517600,\"precipIntensity\":0,\"precipProbability\":0},{\"time\":1475517660,\"precipIntensity\":0,\"precipProbability\":0},{\"time\":1475517720,\"precipIntensity\":0,\"precipProbability\":0},{\"time\":1475517780,\"precipIntensity\":0,\"precipProbability\":0},{\"time\":1475517840,\"precipIntensity\":0,\"precipProbability\":0},{\"time\":1475517900,\"precipIntensity\":0,\"precipProbability\":0},{\"time\":1475517960,\"precipIntensity\":0,\"precipProbability\":0},{\"time\":1475518020,\"precipIntensity\":0,\"precipProbability\":0},{\"time\":1475518080,\"precipIntensity\":0,\"precipProbability\":0},{\"time\":1475518140,\"precipIntensity\":0,\"precipProbability\":0},{\"time\":1475518200,\"precipIntensity\":0,\"precipProbability\":0},{\"time\":1475518260,\"precipIntensity\":0,\"precipProbability\":0},{\"time\":1475518320,\"precipIntensity\":0,\"precipProbability\":0},{\"time\":1475518380,\"precipIntensity\":0,\"precipProbability\":0},{\"time\":1475518440,\"precipIntensity\":0,\"precipProbability\":0},{\"time\":1475518500,\"precipIntensity\":0,\"precipProbability\":0},{\"time\":1475518560,\"precipIntensity\":0,\"precipProbability\":0},{\"time\":1475518620,\"precipIntensity\":0,\"precipProbability\":0},{\"time\":1475518680,\"precipIntensity\":0,\"precipProbability\":0},{\"time\":1475518740,\"precipIntensity\":0,\"precipProbability\":0},{\"time\":1475518800,\"precipIntensity\":0,\"precipProbability\":0},{\"time\":1475518860,\"precipIntensity\":0,\"precipProbability\":0},{\"time\":1475518920,\"precipIntensity\":0,\"precipProbability\":0},{\"time\":1475518980,\"precipIntensity\":0,\"precipProbability\":0},{\"time\":1475519040,\"precipIntensity\":0,\"precipProbability\":0}]},\"hourly\":{\"summary\":\"Mostly cloudy throughout the day.\",\"icon\":\"partly-cloudy-night\",\"data\":[{\"time\":1475514000,\"summary\":\"Partly Cloudy\",\"icon\":\"partly-cloudy-day\",\"precipIntensity\":0,\"precipProbability\":0,\"temperature\":67.74,\"apparentTemperature\":67.74,\"dewPoint\":57.59,\"humidity\":0.7,\"windSpeed\":3.11,\"windBearing\":54,\"visibility\":9.58,\"cloudCover\":0.26,\"pressure\":1016.44,\"ozone\":255.95},{\"time\":1475517600,\"summary\":\"Partly Cloudy\",\"icon\":\"partly-cloudy-day\",\"precipIntensity\":0,\"precipProbability\":0,\"temperature\":67.43,\"apparentTemperature\":67.43,\"dewPoint\":57.48,\"humidity\":0.7,\"windSpeed\":4.65,\"windBearing\":70,\"visibility\":9.42,\"cloudCover\":0.41,\"pressure\":1016.61,\"ozone\":256.73},{\"time\":1475521200,\"summary\":\"Partly Cloudy\",\"icon\":\"partly-cloudy-day\",\"precipIntensity\":0,\"precipProbability\":0,\"temperature\":67.22,\"apparentTemperature\":67.22,\"dewPoint\":57.36,\"humidity\":0.71,\"windSpeed\":5.75,\"windBearing\":64,\"visibility\":9.47,\"cloudCover\":0.43,\"pressure\":1016.74,\"ozone\":258.23},{\"time\":1475524800,\"summary\":\"Partly Cloudy\",\"icon\":\"partly-cloudy-day\",\"precipIntensity\":0.0023,\"precipProbability\":0.06,\"precipType\":\"rain\",\"temperature\":66,\"apparentTemperature\":66,\"dewPoint\":56.91,\"humidity\":0.73,\"windSpeed\":6.77,\"windBearing\":61,\"visibility\":9.41,\"cloudCover\":0.49,\"pressure\":1016.9,\"ozone\":260.12},{\"time\":1475528400,\"summary\":\"Partly Cloudy\",\"icon\":\"partly-cloudy-day\",\"precipIntensity\":0.0011,\"precipProbability\":0.02,\"precipType\":\"rain\",\"temperature\":63.94,\"apparentTemperature\":63.94,\"dewPoint\":56.32,\"humidity\":0.76,\"windSpeed\":7.52,\"windBearing\":60,\"visibility\":9.24,\"cloudCover\":0.49,\"pressure\":1017.25,\"ozone\":261.69},{\"time\":1475532000,\"summary\":\"Partly Cloudy\",\"icon\":\"partly-cloudy-day\",\"precipIntensity\":0,\"precipProbability\":0,\"temperature\":62.22,\"apparentTemperature\":62.22,\"dewPoint\":56.06,\"humidity\":0.8,\"windSpeed\":7.41,\"windBearing\":60,\"visibility\":9.03,\"cloudCover\":0.5,\"pressure\":1017.91,\"ozone\":262.62},{\"time\":1475535600,\"summary\":\"Partly Cloudy\",\"icon\":\"partly-cloudy-night\",\"precipIntensity\":0,\"precipProbability\":0,\"temperature\":60.27,\"apparentTemperature\":60.27,\"dewPoint\":55.93,\"humidity\":0.86,\"windSpeed\":7.5,\"windBearing\":55,\"visibility\":8.62,\"cloudCover\":0.54,\"pressure\":1018.75,\"ozone\":263.24},{\"time\":1475539200,\"summary\":\"Partly Cloudy\",\"icon\":\"partly-cloudy-night\",\"precipIntensity\":0.0014,\"precipProbability\":0.03,\"precipType\":\"rain\",\"temperature\":59.7,\"apparentTemperature\":59.7,\"dewPoint\":56.43,\"humidity\":0.89,\"windSpeed\":7.43,\"windBearing\":53,\"visibility\":8.62,\"cloudCover\":0.57,\"pressure\":1019.55,\"ozone\":263.84},{\"time\":1475542800,\"summary\":\"Mostly Cloudy\",\"icon\":\"partly-cloudy-night\",\"precipIntensity\":0,\"precipProbability\":0,\"temperature\":58.93,\"apparentTemperature\":58.93,\"dewPoint\":55.99,\"humidity\":0.9,\"windSpeed\":7.52,\"windBearing\":51,\"visibility\":8.7,\"cloudCover\":0.64,\"pressure\":1020.29,\"ozone\":264.62},{\"time\":1475546400,\"summary\":\"Mostly Cloudy\",\"icon\":\"partly-cloudy-night\",\"precipIntensity\":0,\"precipProbability\":0,\"temperature\":58.3,\"apparentTemperature\":58.3,\"dewPoint\":55.71,\"humidity\":0.91,\"windSpeed\":8.01,\"windBearing\":48,\"visibility\":8.72,\"cloudCover\":0.71,\"pressure\":1021,\"ozone\":265.37},{\"time\":1475550000,\"summary\":\"Mostly Cloudy\",\"icon\":\"partly-cloudy-night\",\"precipIntensity\":0,\"precipProbability\":0,\"temperature\":58.14,\"apparentTemperature\":58.14,\"dewPoint\":55.6,\"humidity\":0.91,\"windSpeed\":8.22,\"windBearing\":47,\"visibility\":8.73,\"cloudCover\":0.76,\"pressure\":1021.64,\"ozone\":265.84},{\"time\":1475553600,\"summary\":\"Mostly Cloudy\",\"icon\":\"partly-cloudy-night\",\"precipIntensity\":0,\"precipProbability\":0,\"temperature\":57.51,\"apparentTemperature\":57.51,\"dewPoint\":55.12,\"humidity\":0.92,\"windSpeed\":8.47,\"windBearing\":42,\"visibility\":8.74,\"cloudCover\":0.77,\"pressure\":1022.22,\"ozone\":265.85},{\"time\":1475557200,\"summary\":\"Mostly Cloudy\",\"icon\":\"partly-cloudy-night\",\"precipIntensity\":0,\"precipProbability\":0,\"temperature\":57.8,\"apparentTemperature\":57.8,\"dewPoint\":55.22,\"humidity\":0.91,\"windSpeed\":8.91,\"windBearing\":40,\"visibility\":8.7,\"cloudCover\":0.76,\"pressure\":1022.74,\"ozone\":265.58},{\"time\":1475560800,\"summary\":\"Mostly Cloudy\",\"icon\":\"partly-cloudy-night\",\"precipIntensity\":0,\"precipProbability\":0,\"temperature\":57.14,\"apparentTemperature\":57.14,\"dewPoint\":54.29,\"humidity\":0.9,\"windSpeed\":9.28,\"windBearing\":34,\"visibility\":8.71,\"cloudCover\":0.75,\"pressure\":1023.16,\"ozone\":265.18},{\"time\":1475564400,\"summary\":\"Mostly Cloudy\",\"icon\":\"partly-cloudy-night\",\"precipIntensity\":0,\"precipProbability\":0,\"temperature\":57.01,\"apparentTemperature\":57.01,\"dewPoint\":54.24,\"humidity\":0.9,\"windSpeed\":8.98,\"windBearing\":33,\"visibility\":8.77,\"cloudCover\":0.75,\"pressure\":1023.44,\"ozone\":264.64},{\"time\":1475568000,\"summary\":\"Mostly Cloudy\",\"icon\":\"partly-cloudy-night\",\"precipIntensity\":0,\"precipProbability\":0,\"temperature\":56.96,\"apparentTemperature\":56.96,\"dewPoint\":54.47,\"humidity\":0.91,\"windSpeed\":9.22,\"windBearing\":27,\"visibility\":8.78,\"cloudCover\":0.75,\"pressure\":1023.65,\"ozone\":263.98},{\"time\":1475571600,\"summary\":\"Mostly Cloudy\",\"icon\":\"partly-cloudy-night\",\"precipIntensity\":0,\"precipProbability\":0,\"temperature\":57.02,\"apparentTemperature\":57.02,\"dewPoint\":54.41,\"humidity\":0.91,\"windSpeed\":9.55,\"windBearing\":24,\"visibility\":8.73,\"cloudCover\":0.77,\"pressure\":1023.94,\"ozone\":263.39},{\"time\":1475575200,\"summary\":\"Mostly Cloudy\",\"icon\":\"partly-cloudy-night\",\"precipIntensity\":0,\"precipProbability\":0,\"temperature\":57.01,\"apparentTemperature\":57.01,\"dewPoint\":54.69,\"humidity\":0.92,\"windSpeed\":10.06,\"windBearing\":27,\"visibility\":8.74,\"cloudCover\":0.81,\"pressure\":1024.4,\"ozone\":262.89},{\"time\":1475578800,\"summary\":\"Mostly Cloudy\",\"icon\":\"partly-cloudy-day\",\"precipIntensity\":0.001,\"precipProbability\":0.01,\"precipType\":\"rain\",\"temperature\":57.15,\"apparentTemperature\":57.15,\"dewPoint\":54.92,\"humidity\":0.92,\"windSpeed\":10.75,\"windBearing\":31,\"visibility\":9.23,\"cloudCover\":0.86,\"pressure\":1025,\"ozone\":262.46},{\"time\":1475582400,\"summary\":\"Mostly Cloudy\",\"icon\":\"partly-cloudy-day\",\"precipIntensity\":0.0015,\"precipProbability\":0.03,\"precipType\":\"rain\",\"temperature\":57.55,\"apparentTemperature\":57.55,\"dewPoint\":54.69,\"humidity\":0.9,\"windSpeed\":11.26,\"windBearing\":33,\"visibility\":9.58,\"cloudCover\":0.91,\"pressure\":1025.59,\"ozone\":262.29},{\"time\":1475586000,\"summary\":\"Overcast\",\"icon\":\"cloudy\",\"precipIntensity\":0.0016,\"precipProbability\":0.03,\"precipType\":\"rain\",\"temperature\":57.86,\"apparentTemperature\":57.86,\"dewPoint\":54.58,\"humidity\":0.89,\"windSpeed\":11.68,\"windBearing\":33,\"visibility\":9.78,\"cloudCover\":0.94,\"pressure\":1026.19,\"ozone\":262.63},{\"time\":1475589600,\"summary\":\"Overcast\",\"icon\":\"cloudy\",\"precipIntensity\":0.0015,\"precipProbability\":0.03,\"precipType\":\"rain\",\"temperature\":58.25,\"apparentTemperature\":58.25,\"dewPoint\":54.01,\"humidity\":0.86,\"windSpeed\":11.59,\"windBearing\":37,\"visibility\":9.89,\"cloudCover\":0.96,\"pressure\":1026.78,\"ozone\":263.23},{\"time\":1475593200,\"summary\":\"Overcast\",\"icon\":\"cloudy\",\"precipIntensity\":0.0014,\"precipProbability\":0.02,\"precipType\":\"rain\",\"temperature\":59,\"apparentTemperature\":59,\"dewPoint\":54.03,\"humidity\":0.84,\"windSpeed\":11.63,\"windBearing\":41,\"visibility\":10,\"cloudCover\":0.95,\"pressure\":1027.21,\"ozone\":263.45},{\"time\":1475596800,\"summary\":\"Mostly Cloudy\",\"icon\":\"partly-cloudy-day\",\"precipIntensity\":0.0013,\"precipProbability\":0.02,\"precipType\":\"rain\",\"temperature\":59.27,\"apparentTemperature\":59.27,\"dewPoint\":53.5,\"humidity\":0.81,\"windSpeed\":11.84,\"windBearing\":40,\"visibility\":10,\"cloudCover\":0.89,\"pressure\":1027.42,\"ozone\":262.9},{\"time\":1475600400,\"summary\":\"Mostly Cloudy\",\"icon\":\"partly-cloudy-day\",\"precipIntensity\":0.0013,\"precipProbability\":0.02,\"precipType\":\"rain\",\"temperature\":61.03,\"apparentTemperature\":61.03,\"dewPoint\":54.15,\"humidity\":0.78,\"windSpeed\":12.54,\"windBearing\":37,\"visibility\":10,\"cloudCover\":0.73,\"pressure\":1027.48,\"ozone\":261.98},{\"time\":1475604000,\"summary\":\"Partly Cloudy\",\"icon\":\"partly-cloudy-day\",\"precipIntensity\":0.0013,\"precipProbability\":0.02,\"precipType\":\"rain\",\"temperature\":61.16,\"apparentTemperature\":61.16,\"dewPoint\":53.31,\"humidity\":0.75,\"windSpeed\":12.76,\"windBearing\":35,\"visibility\":10,\"cloudCover\":0.58,\"pressure\":1027.45,\"ozone\":261.22},{\"time\":1475607600,\"summary\":\"Partly Cloudy\",\"icon\":\"partly-cloudy-day\",\"precipIntensity\":0.0013,\"precipProbability\":0.02,\"precipType\":\"rain\",\"temperature\":60.52,\"apparentTemperature\":60.52,\"dewPoint\":51.92,\"humidity\":0.73,\"windSpeed\":12.61,\"windBearing\":32,\"visibility\":10,\"cloudCover\":0.43,\"pressure\":1027.28,\"ozone\":260.81},{\"time\":1475611200,\"summary\":\"Partly Cloudy\",\"icon\":\"partly-cloudy-day\",\"precipIntensity\":0.0012,\"precipProbability\":0.02,\"precipType\":\"rain\",\"temperature\":59.6,\"apparentTemperature\":59.6,\"dewPoint\":50.52,\"humidity\":0.72,\"windSpeed\":12.31,\"windBearing\":31,\"visibility\":10,\"cloudCover\":0.3,\"pressure\":1027.01,\"ozone\":260.57},{\"time\":1475614800,\"summary\":\"Clear\",\"icon\":\"clear-day\",\"precipIntensity\":0.0012,\"precipProbability\":0.02,\"precipType\":\"rain\",\"temperature\":58.61,\"apparentTemperature\":58.61,\"dewPoint\":49.57,\"humidity\":0.72,\"windSpeed\":11.86,\"windBearing\":30,\"visibility\":10,\"cloudCover\":0.23,\"pressure\":1026.87,\"ozone\":260.53},{\"time\":1475618400,\"summary\":\"Clear\",\"icon\":\"clear-day\",\"precipIntensity\":0.0012,\"precipProbability\":0.02,\"precipType\":\"rain\",\"temperature\":57.32,\"apparentTemperature\":57.32,\"dewPoint\":49.07,\"humidity\":0.74,\"windSpeed\":11.29,\"windBearing\":28,\"visibility\":10,\"cloudCover\":0.23,\"pressure\":1027,\"ozone\":260.8},{\"time\":1475622000,\"summary\":\"Partly Cloudy\",\"icon\":\"partly-cloudy-night\",\"precipIntensity\":0.0013,\"precipProbability\":0.02,\"precipType\":\"rain\",\"temperature\":55.71,\"apparentTemperature\":55.71,\"dewPoint\":48.76,\"humidity\":0.77,\"windSpeed\":10.38,\"windBearing\":27,\"visibility\":10,\"cloudCover\":0.32,\"pressure\":1027.21,\"ozone\":261.27},{\"time\":1475625600,\"summary\":\"Partly Cloudy\",\"icon\":\"partly-cloudy-night\",\"precipIntensity\":0.0014,\"precipProbability\":0.02,\"precipType\":\"rain\",\"temperature\":54.45,\"apparentTemperature\":54.45,\"dewPoint\":48.58,\"humidity\":0.81,\"windSpeed\":9.66,\"windBearing\":26,\"visibility\":10,\"cloudCover\":0.38,\"pressure\":1027.42,\"ozone\":261.65},{\"time\":1475629200,\"summary\":\"Partly Cloudy\",\"icon\":\"partly-cloudy-night\",\"precipIntensity\":0.0014,\"precipProbability\":0.02,\"precipType\":\"rain\",\"temperature\":53.7,\"apparentTemperature\":53.7,\"dewPoint\":48.56,\"humidity\":0.83,\"windSpeed\":9.3,\"windBearing\":24,\"visibility\":10,\"cloudCover\":0.37,\"pressure\":1027.68,\"ozone\":261.79},{\"time\":1475632800,\"summary\":\"Partly Cloudy\",\"icon\":\"partly-cloudy-night\",\"precipIntensity\":0.0014,\"precipProbability\":0.02,\"precipType\":\"rain\",\"temperature\":53.21,\"apparentTemperature\":53.21,\"dewPoint\":48.64,\"humidity\":0.84,\"windSpeed\":9.14,\"windBearing\":23,\"visibility\":10,\"cloudCover\":0.35,\"pressure\":1027.97,\"ozone\":261.83},{\"time\":1475636400,\"summary\":\"Partly Cloudy\",\"icon\":\"partly-cloudy-night\",\"precipIntensity\":0.0014,\"precipProbability\":0.02,\"precipType\":\"rain\",\"temperature\":52.84,\"apparentTemperature\":52.84,\"dewPoint\":48.7,\"humidity\":0.86,\"windSpeed\":8.98,\"windBearing\":21,\"visibility\":10,\"cloudCover\":0.34,\"pressure\":1028.12,\"ozone\":261.86},{\"time\":1475640000,\"summary\":\"Partly Cloudy\",\"icon\":\"partly-cloudy-night\",\"precipIntensity\":0.0014,\"precipProbability\":0.02,\"precipType\":\"rain\",\"temperature\":52.68,\"apparentTemperature\":52.68,\"dewPoint\":48.76,\"humidity\":0.86,\"windSpeed\":8.82,\"windBearing\":17,\"visibility\":10,\"cloudCover\":0.34,\"pressure\":1028.06,\"ozone\":261.88},{\"time\":1475643600,\"summary\":\"Partly Cloudy\",\"icon\":\"partly-cloudy-night\",\"precipIntensity\":0.0014,\"precipProbability\":0.02,\"precipType\":\"rain\",\"temperature\":52.79,\"apparentTemperature\":52.79,\"dewPoint\":48.94,\"humidity\":0.87,\"windSpeed\":8.7,\"windBearing\":14,\"visibility\":10,\"cloudCover\":0.35,\"pressure\":1027.87,\"ozone\":261.9},{\"time\":1475647200,\"summary\":\"Partly Cloudy\",\"icon\":\"partly-cloudy-night\",\"precipIntensity\":0.0014,\"precipProbability\":0.02,\"precipType\":\"rain\",\"temperature\":53.03,\"apparentTemperature\":53.03,\"dewPoint\":49.2,\"humidity\":0.87,\"windSpeed\":8.64,\"windBearing\":10,\"visibility\":10,\"cloudCover\":0.37,\"pressure\":1027.65,\"ozone\":262.03},{\"time\":1475650800,\"summary\":\"Partly Cloudy\",\"icon\":\"partly-cloudy-night\",\"precipIntensity\":0.0014,\"precipProbability\":0.02,\"precipType\":\"rain\",\"temperature\":53.09,\"apparentTemperature\":53.09,\"dewPoint\":49.31,\"humidity\":0.87,\"windSpeed\":8.68,\"windBearing\":7,\"visibility\":10,\"cloudCover\":0.39,\"pressure\":1027.4,\"ozone\":262.34},{\"time\":1475654400,\"summary\":\"Partly Cloudy\",\"icon\":\"partly-cloudy-night\",\"precipIntensity\":0.0013,\"precipProbability\":0.02,\"precipType\":\"rain\",\"temperature\":52.63,\"apparentTemperature\":52.63,\"dewPoint\":48.89,\"humidity\":0.87,\"windSpeed\":8.8,\"windBearing\":4,\"visibility\":10,\"cloudCover\":0.41,\"pressure\":1027.12,\"ozone\":262.76},{\"time\":1475658000,\"summary\":\"Partly Cloudy\",\"icon\":\"partly-cloudy-night\",\"precipIntensity\":0.0012,\"precipProbability\":0.02,\"precipType\":\"rain\",\"temperature\":51.77,\"apparentTemperature\":51.77,\"dewPoint\":48.02,\"humidity\":0.87,\"windSpeed\":8.95,\"windBearing\":3,\"visibility\":10,\"cloudCover\":0.42,\"pressure\":1026.96,\"ozone\":263.24},{\"time\":1475661600,\"summary\":\"Partly Cloudy\",\"icon\":\"partly-cloudy-night\",\"precipIntensity\":0.0012,\"precipProbability\":0.02,\"precipType\":\"rain\",\"temperature\":50.75,\"apparentTemperature\":50.75,\"dewPoint\":47.07,\"humidity\":0.87,\"windSpeed\":9.15,\"windBearing\":3,\"visibility\":10,\"cloudCover\":0.43,\"pressure\":1027.03,\"ozone\":263.81},{\"time\":1475665200,\"summary\":\"Partly Cloudy\",\"icon\":\"partly-cloudy-day\",\"precipIntensity\":0.0011,\"precipProbability\":0.02,\"precipType\":\"rain\",\"temperature\":50.14,\"apparentTemperature\":50.14,\"dewPoint\":46.48,\"humidity\":0.87,\"windSpeed\":9.34,\"windBearing\":2,\"visibility\":10,\"cloudCover\":0.42,\"pressure\":1027.21,\"ozone\":264.43},{\"time\":1475668800,\"summary\":\"Partly Cloudy\",\"icon\":\"partly-cloudy-day\",\"precipIntensity\":0.001,\"precipProbability\":0.01,\"precipType\":\"rain\",\"temperature\":51.05,\"apparentTemperature\":51.05,\"dewPoint\":46.96,\"humidity\":0.86,\"windSpeed\":9.44,\"windBearing\":3,\"visibility\":10,\"cloudCover\":0.41,\"pressure\":1027.33,\"ozone\":264.97},{\"time\":1475672400,\"summary\":\"Partly Cloudy\",\"icon\":\"partly-cloudy-day\",\"precipIntensity\":0.0009,\"precipProbability\":0.01,\"precipType\":\"rain\",\"temperature\":53.34,\"apparentTemperature\":53.34,\"dewPoint\":48.01,\"humidity\":0.82,\"windSpeed\":9.49,\"windBearing\":9,\"visibility\":10,\"cloudCover\":0.39,\"pressure\":1027.33,\"ozone\":265.34},{\"time\":1475676000,\"summary\":\"Partly Cloudy\",\"icon\":\"partly-cloudy-day\",\"precipIntensity\":0.0008,\"precipProbability\":0.01,\"precipType\":\"rain\",\"temperature\":56.05,\"apparentTemperature\":56.05,\"dewPoint\":48.91,\"humidity\":0.77,\"windSpeed\":9.63,\"windBearing\":17,\"visibility\":10,\"cloudCover\":0.37,\"pressure\":1027.26,\"ozone\":265.63},{\"time\":1475679600,\"summary\":\"Partly Cloudy\",\"icon\":\"partly-cloudy-day\",\"precipIntensity\":0,\"precipProbability\":0,\"temperature\":58.13,\"apparentTemperature\":58.13,\"dewPoint\":49.29,\"humidity\":0.72,\"windSpeed\":9.77,\"windBearing\":22,\"visibility\":10,\"cloudCover\":0.35,\"pressure\":1027.09,\"ozone\":265.97},{\"time\":1475683200,\"summary\":\"Partly Cloudy\",\"icon\":\"partly-cloudy-day\",\"precipIntensity\":0,\"precipProbability\":0,\"temperature\":59.56,\"apparentTemperature\":59.56,\"dewPoint\":49.32,\"humidity\":0.69,\"windSpeed\":9.92,\"windBearing\":27,\"visibility\":10,\"cloudCover\":0.32,\"pressure\":1026.8,\"ozone\":266.37},{\"time\":1475686800,\"summary\":\"Partly Cloudy\",\"icon\":\"partly-cloudy-day\",\"precipIntensity\":0,\"precipProbability\":0,\"temperature\":60.87,\"apparentTemperature\":60.87,\"dewPoint\":49.41,\"humidity\":0.66,\"windSpeed\":10.05,\"windBearing\":31,\"visibility\":10,\"cloudCover\":0.29,\"pressure\":1026.43,\"ozone\":266.81}]},\"daily\":{\"summary\":\"Light rain over the weekend, with temperatures peaking at 68°F on Friday.\",\"icon\":\"rain\",\"data\":[{\"time\":1475467200,\"summary\":\"Partly cloudy throughout the day.\",\"icon\":\"partly-cloudy-day\",\"sunriseTime\":1475491508,\"sunsetTime\":1475533407,\"moonPhase\":0.08,\"precipIntensity\":0.0002,\"precipIntensityMax\":0.0023,\"precipIntensityMaxTime\":1475524800,\"precipProbability\":0.06,\"precipType\":\"rain\",\"temperatureMin\":55.44,\"temperatureMinTime\":1475481600,\"temperatureMax\":67.74,\"temperatureMaxTime\":1475514000,\"apparentTemperatureMin\":55.44,\"apparentTemperatureMinTime\":1475481600,\"apparentTemperatureMax\":67.74,\"apparentTemperatureMaxTime\":1475514000,\"dewPoint\":55.88,\"humidity\":0.86,\"windSpeed\":1.96,\"windBearing\":42,\"visibility\":8.9,\"cloudCover\":0.52,\"pressure\":1016.94,\"ozone\":256.01},{\"time\":1475553600,\"summary\":\"Mostly cloudy throughout the day.\",\"icon\":\"partly-cloudy-day\",\"sunriseTime\":1475577974,\"sunsetTime\":1475619703,\"moonPhase\":0.11,\"precipIntensity\":0.001,\"precipIntensityMax\":0.0016,\"precipIntensityMaxTime\":1475586000,\"precipProbability\":0.03,\"precipType\":\"rain\",\"temperatureMin\":52.84,\"temperatureMinTime\":1475636400,\"temperatureMax\":61.16,\"temperatureMaxTime\":1475604000,\"apparentTemperatureMin\":52.84,\"apparentTemperatureMinTime\":1475636400,\"apparentTemperatureMax\":61.16,\"apparentTemperatureMaxTime\":1475604000,\"dewPoint\":52.5,\"humidity\":0.84,\"windSpeed\":10.53,\"windBearing\":32,\"visibility\":9.57,\"cloudCover\":0.63,\"pressure\":1025.97,\"ozone\":262.62},{\"time\":1475640000,\"summary\":\"Partly cloudy until afternoon.\",\"icon\":\"partly-cloudy-day\",\"sunriseTime\":1475664440,\"sunsetTime\":1475706000,\"moonPhase\":0.14,\"precipIntensity\":0.0007,\"precipIntensityMax\":0.0014,\"precipIntensityMaxTime\":1475643600,\"precipProbability\":0.02,\"precipType\":\"rain\",\"temperatureMin\":50.14,\"temperatureMinTime\":1475665200,\"temperatureMax\":62.6,\"temperatureMaxTime\":1475694000,\"apparentTemperatureMin\":50.14,\"apparentTemperatureMinTime\":1475665200,\"apparentTemperatureMax\":62.6,\"apparentTemperatureMaxTime\":1475694000,\"dewPoint\":49.45,\"humidity\":0.8,\"windSpeed\":8.12,\"windBearing\":19,\"visibility\":10,\"cloudCover\":0.26,\"pressure\":1026.28,\"ozone\":266.85},{\"time\":1475726400,\"summary\":\"Partly cloudy in the morning.\",\"icon\":\"partly-cloudy-night\",\"sunriseTime\":1475750907,\"sunsetTime\":1475792297,\"moonPhase\":0.17,\"precipIntensity\":0,\"precipIntensityMax\":0,\"precipProbability\":0,\"temperatureMin\":47.36,\"temperatureMinTime\":1475748000,\"temperatureMax\":66.28,\"temperatureMaxTime\":1475776800,\"apparentTemperatureMin\":45.33,\"apparentTemperatureMinTime\":1475748000,\"apparentTemperatureMax\":66.28,\"apparentTemperatureMaxTime\":1475776800,\"dewPoint\":47.38,\"humidity\":0.72,\"windSpeed\":1.71,\"windBearing\":16,\"visibility\":10,\"cloudCover\":0.17,\"pressure\":1024.22,\"ozone\":263.59},{\"time\":1475812800,\"summary\":\"Clear throughout the day.\",\"icon\":\"clear-day\",\"sunriseTime\":1475837374,\"sunsetTime\":1475878595,\"moonPhase\":0.21,\"precipIntensity\":0,\"precipIntensityMax\":0,\"precipProbability\":0,\"temperatureMin\":49.22,\"temperatureMinTime\":1475830800,\"temperatureMax\":68.01,\"temperatureMaxTime\":1475863200,\"apparentTemperatureMin\":49.22,\"apparentTemperatureMinTime\":1475830800,\"apparentTemperatureMax\":68.01,\"apparentTemperatureMaxTime\":1475863200,\"dewPoint\":48.86,\"humidity\":0.72,\"windSpeed\":2.32,\"windBearing\":141,\"cloudCover\":0.01,\"pressure\":1022.12,\"ozone\":248.03},{\"time\":1475899200,\"summary\":\"Light rain throughout the day.\",\"icon\":\"rain\",\"sunriseTime\":1475923841,\"sunsetTime\":1475964893,\"moonPhase\":0.24,\"precipIntensity\":0.007,\"precipIntensityMax\":0.0123,\"precipIntensityMaxTime\":1475967600,\"precipProbability\":0.45,\"precipType\":\"rain\",\"temperatureMin\":47.94,\"temperatureMinTime\":1475913600,\"temperatureMax\":64.85,\"temperatureMaxTime\":1475942400,\"apparentTemperatureMin\":47.94,\"apparentTemperatureMinTime\":1475913600,\"apparentTemperatureMax\":64.85,\"apparentTemperatureMaxTime\":1475942400,\"dewPoint\":53.92,\"humidity\":0.87,\"windSpeed\":4.01,\"windBearing\":116,\"cloudCover\":0.39,\"pressure\":1015.94,\"ozone\":242.58},{\"time\":1475985600,\"summary\":\"Rain throughout the day.\",\"icon\":\"rain\",\"sunriseTime\":1476010308,\"sunsetTime\":1476051192,\"moonPhase\":0.27,\"precipIntensity\":0.0331,\"precipIntensityMax\":0.0775,\"precipIntensityMaxTime\":1476036000,\"precipProbability\":0.64,\"precipType\":\"rain\",\"temperatureMin\":53.61,\"temperatureMinTime\":1476068400,\"temperatureMax\":66.33,\"temperatureMaxTime\":1476032400,\"apparentTemperatureMin\":53.61,\"apparentTemperatureMinTime\":1476068400,\"apparentTemperatureMax\":66.33,\"apparentTemperatureMaxTime\":1476032400,\"dewPoint\":57.42,\"humidity\":0.84,\"windSpeed\":3.27,\"windBearing\":187,\"cloudCover\":0.82,\"pressure\":1003.62,\"ozone\":254.67},{\"time\":1476072000,\"summary\":\"Clear throughout the day.\",\"icon\":\"clear-day\",\"sunriseTime\":1476096776,\"sunsetTime\":1476137492,\"moonPhase\":0.3,\"precipIntensity\":0.0005,\"precipIntensityMax\":0.0014,\"precipIntensityMaxTime\":1476079200,\"precipProbability\":0.02,\"precipType\":\"rain\",\"temperatureMin\":45.89,\"temperatureMinTime\":1476154800,\"temperatureMax\":53.46,\"temperatureMaxTime\":1476126000,\"apparentTemperatureMin\":42.42,\"apparentTemperatureMinTime\":1476154800,\"apparentTemperatureMax\":53.46,\"apparentTemperatureMaxTime\":1476126000,\"dewPoint\":36.11,\"humidity\":0.59,\"windSpeed\":9.38,\"windBearing\":280,\"cloudCover\":0.01,\"pressure\":1013.32,\"ozone\":302.65}]},\"flags\":{\"sources\":[\"darksky\",\"lamp\",\"gfs\",\"cmc\",\"nam\",\"rap\",\"rtma\",\"sref\",\"fnmoc\",\"isd\",\"nwspa\",\"madis\",\"nearest-precip\"],\"darksky-stations\":[\"KBOX\"],\"lamp-stations\":[\"KASH\",\"KBED\",\"KBOS\",\"KBVY\",\"KFIT\",\"KLWM\",\"KMQE\",\"KOWD\",\"KPYM\",\"KSFZ\",\"KTAN\"],\"isd-stations\":[\"725090-14739\",\"726054-99999\",\"994971-99999\",\"999999-14789\",\"999999-94701\"],\"madis-stations\":[\"AV085\",\"BHBM3\",\"C0210\",\"C6612\",\"C9442\",\"D0056\",\"D3706\",\"D7355\",\"D8100\",\"E2727\",\"E4331\",\"E5351\",\"E5650\",\"E6480\",\"E8528\",\"KBOS\"],\"units\":\"us\"}}\n"
     ]
    }
   ],
   "source": [
    "print la_homey.text"
   ]
  },
  {
   "cell_type": "code",
   "execution_count": 120,
   "metadata": {
    "collapsed": false
   },
   "outputs": [],
   "source": [
    "la_homey_json = json.loads(la_homey.text)"
   ]
  },
  {
   "cell_type": "markdown",
   "metadata": {},
   "source": [
    "##get keys of the city to forecast"
   ]
  },
  {
   "cell_type": "code",
   "execution_count": 161,
   "metadata": {
    "collapsed": false
   },
   "outputs": [
    {
     "name": "stdout",
     "output_type": "stream",
     "text": [
      "[u'hourly', u'currently', u'longitude', u'flags', u'daily', u'offset', u'latitude', u'timezone', u'minutely']\n"
     ]
    }
   ],
   "source": [
    "print la_homey_json.keys()"
   ]
  },
  {
   "cell_type": "code",
   "execution_count": 225,
   "metadata": {
    "collapsed": false
   },
   "outputs": [
    {
     "name": "stdout",
     "output_type": "stream",
     "text": [
      "America/New_York\n",
      "-71.0589\n",
      "42.3601\n",
      "{u'ozone': 256.27, u'temperature': 67.62, u'dewPoint': 57.54, u'nearestStormDistance': 97, u'cloudCover': 0.32, u'humidity': 0.7, u'nearestStormBearing': 349, u'summary': u'Partly Cloudy', u'apparentTemperature': 67.62, u'pressure': 1016.51, u'windSpeed': 3.7, u'precipProbability': 0, u'visibility': 9.51, u'time': 1475515464, u'windBearing': 62, u'precipIntensity': 0, u'icon': u'partly-cloudy-day'}\n"
     ]
    }
   ],
   "source": [
    "print la_homey_json['timezone']\n",
    "print la_homey_json['longitude']\n",
    "print la_homey_json['latitude']\n",
    "print la_homey_json['currently']"
   ]
  },
  {
   "cell_type": "markdown",
   "metadata": {},
   "source": [
    "#will focus on 'hourly', 'minutely', 'daily' data "
   ]
  },
  {
   "cell_type": "markdown",
   "metadata": {},
   "source": [
    "#daily forecast"
   ]
  },
  {
   "cell_type": "code",
   "execution_count": 210,
   "metadata": {
    "collapsed": false
   },
   "outputs": [
    {
     "name": "stdout",
     "output_type": "stream",
     "text": [
      "There are  8  days\n",
      "Lengths:  [27, 27, 27, 25, 24, 26, 26, 26]\n"
     ]
    }
   ],
   "source": [
    "print \"There are \",len(la_homey_json['daily']['data']),\" days\"\n",
    "print \"Lengths: \",\n",
    "#check if the data blocks are of the same length\n",
    "daily_details = []\n",
    "for i in range(len(la_homey_json['daily']['data'])):\n",
    "    daily_data_temp = len(la_homey_json['daily']['data'][i].keys())\n",
    "    daily_details.append(daily_data_temp)\n",
    "print daily_details"
   ]
  },
  {
   "cell_type": "code",
   "execution_count": 191,
   "metadata": {
    "collapsed": false
   },
   "outputs": [
    {
     "data": {
      "text/plain": [
       "False"
      ]
     },
     "execution_count": 191,
     "metadata": {},
     "output_type": "execute_result"
    }
   ],
   "source": [
    "sum([daily_details[i] == daily_details[1] for i in range(len(daily_details))])==len(daily_details)"
   ]
  },
  {
   "cell_type": "markdown",
   "metadata": {},
   "source": [
    "##meaning some data blocks have incomplete details/pieces of info"
   ]
  },
  {
   "cell_type": "code",
   "execution_count": 218,
   "metadata": {
    "collapsed": true
   },
   "outputs": [],
   "source": [
    "daily_df = pandas.DataFrame(la_homey_json['daily']['data'])"
   ]
  },
  {
   "cell_type": "code",
   "execution_count": 219,
   "metadata": {
    "collapsed": false
   },
   "outputs": [
    {
     "name": "stdout",
     "output_type": "stream",
     "text": [
      "   apparentTemperatureMax  apparentTemperatureMaxTime  apparentTemperatureMin  \\\n",
      "0                   67.74                  1475514000                   55.44   \n",
      "1                   61.16                  1475604000                   52.84   \n",
      "2                   62.60                  1475694000                   50.14   \n",
      "3                   66.28                  1475776800                   45.33   \n",
      "4                   68.01                  1475863200                   49.22   \n",
      "5                   64.85                  1475942400                   47.94   \n",
      "6                   66.33                  1476032400                   53.61   \n",
      "7                   53.46                  1476126000                   42.42   \n",
      "\n",
      "   apparentTemperatureMinTime  cloudCover  dewPoint  humidity  \\\n",
      "0                  1475481600        0.52     55.88      0.86   \n",
      "1                  1475636400        0.63     52.50      0.84   \n",
      "2                  1475665200        0.26     49.45      0.80   \n",
      "3                  1475748000        0.17     47.38      0.72   \n",
      "4                  1475830800        0.01     48.86      0.72   \n",
      "5                  1475913600        0.39     53.92      0.87   \n",
      "6                  1476068400        0.82     57.42      0.84   \n",
      "7                  1476154800        0.01     36.11      0.59   \n",
      "\n",
      "                  icon  moonPhase   ozone    ...      sunriseTime  sunsetTime  \\\n",
      "0    partly-cloudy-day       0.08  256.01    ...       1475491508  1475533407   \n",
      "1    partly-cloudy-day       0.11  262.62    ...       1475577974  1475619703   \n",
      "2    partly-cloudy-day       0.14  266.85    ...       1475664440  1475706000   \n",
      "3  partly-cloudy-night       0.17  263.59    ...       1475750907  1475792297   \n",
      "4            clear-day       0.21  248.03    ...       1475837374  1475878595   \n",
      "5                 rain       0.24  242.58    ...       1475923841  1475964893   \n",
      "6                 rain       0.27  254.67    ...       1476010308  1476051192   \n",
      "7            clear-day       0.30  302.65    ...       1476096776  1476137492   \n",
      "\n",
      "   temperatureMax  temperatureMaxTime temperatureMin  temperatureMinTime  \\\n",
      "0           67.74          1475514000          55.44          1475481600   \n",
      "1           61.16          1475604000          52.84          1475636400   \n",
      "2           62.60          1475694000          50.14          1475665200   \n",
      "3           66.28          1475776800          47.36          1475748000   \n",
      "4           68.01          1475863200          49.22          1475830800   \n",
      "5           64.85          1475942400          47.94          1475913600   \n",
      "6           66.33          1476032400          53.61          1476068400   \n",
      "7           53.46          1476126000          45.89          1476154800   \n",
      "\n",
      "         time  visibility  windBearing  windSpeed  \n",
      "0  1475467200        8.90           42       1.96  \n",
      "1  1475553600        9.57           32      10.53  \n",
      "2  1475640000       10.00           19       8.12  \n",
      "3  1475726400       10.00           16       1.71  \n",
      "4  1475812800         NaN          141       2.32  \n",
      "5  1475899200         NaN          116       4.01  \n",
      "6  1475985600         NaN          187       3.27  \n",
      "7  1476072000         NaN          280       9.38  \n",
      "\n",
      "[8 rows x 27 columns]\n"
     ]
    }
   ],
   "source": [
    "print daily_df"
   ]
  },
  {
   "cell_type": "markdown",
   "metadata": {},
   "source": [
    "##export dataframe"
   ]
  },
  {
   "cell_type": "code",
   "execution_count": null,
   "metadata": {
    "collapsed": true
   },
   "outputs": [],
   "source": [
    "daily_df.to_csv('daily_forecast.csv')"
   ]
  },
  {
   "cell_type": "markdown",
   "metadata": {},
   "source": [
    "#hourly forecast"
   ]
  },
  {
   "cell_type": "code",
   "execution_count": 195,
   "metadata": {
    "collapsed": false
   },
   "outputs": [
    {
     "name": "stdout",
     "output_type": "stream",
     "text": [
      "There are  49  hours\n",
      "Lengths: \n",
      "[15, 15, 15, 16, 16, 15, 15, 16, 15, 15, 15, 15, 15, 15, 15, 15, 15, 15, 16, 16, 16, 16, 16, 16, 16, 16, 16, 16, 16, 16, 16, 16, 16, 16, 16, 16, 16, 16, 16, 16, 16, 16, 16, 16, 16, 16, 15, 15, 15]\n"
     ]
    }
   ],
   "source": [
    "print \"There are \",len(la_homey_json['hourly']['data']),\" hours\"\n",
    "print \"Lengths: \"\n",
    "hourly_details = []\n",
    "#check if the data blocks are of the same length\n",
    "for i in range(len(la_homey_json['hourly']['data'])):\n",
    "    hourly_data_temp = len(la_homey_json['hourly']['data'][i])\n",
    "    hourly_details.append(hourly_data_temp)\n",
    "print hourly_details"
   ]
  },
  {
   "cell_type": "code",
   "execution_count": 196,
   "metadata": {
    "collapsed": false
   },
   "outputs": [
    {
     "data": {
      "text/plain": [
       "False"
      ]
     },
     "execution_count": 196,
     "metadata": {},
     "output_type": "execute_result"
    }
   ],
   "source": [
    "sum([hourly_details[i]==hourly_details[1] for i in range(len(hourly_details))])==len(hourly_details)"
   ]
  },
  {
   "cell_type": "markdown",
   "metadata": {},
   "source": [
    "##meaning there are data blocks with incomplete details/pieces of info"
   ]
  },
  {
   "cell_type": "code",
   "execution_count": 216,
   "metadata": {
    "collapsed": true
   },
   "outputs": [],
   "source": [
    "hourly_df = pandas.DataFrame(la_homey_json['hourly']['data'])"
   ]
  },
  {
   "cell_type": "code",
   "execution_count": 217,
   "metadata": {
    "collapsed": false
   },
   "outputs": [
    {
     "name": "stdout",
     "output_type": "stream",
     "text": [
      "    apparentTemperature  cloudCover  dewPoint  humidity                 icon  \\\n",
      "0                 67.74        0.26     57.59      0.70    partly-cloudy-day   \n",
      "1                 67.43        0.41     57.48      0.70    partly-cloudy-day   \n",
      "2                 67.22        0.43     57.36      0.71    partly-cloudy-day   \n",
      "3                 66.00        0.49     56.91      0.73    partly-cloudy-day   \n",
      "4                 63.94        0.49     56.32      0.76    partly-cloudy-day   \n",
      "5                 62.22        0.50     56.06      0.80    partly-cloudy-day   \n",
      "6                 60.27        0.54     55.93      0.86  partly-cloudy-night   \n",
      "7                 59.70        0.57     56.43      0.89  partly-cloudy-night   \n",
      "8                 58.93        0.64     55.99      0.90  partly-cloudy-night   \n",
      "9                 58.30        0.71     55.71      0.91  partly-cloudy-night   \n",
      "10                58.14        0.76     55.60      0.91  partly-cloudy-night   \n",
      "11                57.51        0.77     55.12      0.92  partly-cloudy-night   \n",
      "12                57.80        0.76     55.22      0.91  partly-cloudy-night   \n",
      "13                57.14        0.75     54.29      0.90  partly-cloudy-night   \n",
      "14                57.01        0.75     54.24      0.90  partly-cloudy-night   \n",
      "15                56.96        0.75     54.47      0.91  partly-cloudy-night   \n",
      "16                57.02        0.77     54.41      0.91  partly-cloudy-night   \n",
      "17                57.01        0.81     54.69      0.92  partly-cloudy-night   \n",
      "18                57.15        0.86     54.92      0.92    partly-cloudy-day   \n",
      "19                57.55        0.91     54.69      0.90    partly-cloudy-day   \n",
      "20                57.86        0.94     54.58      0.89               cloudy   \n",
      "21                58.25        0.96     54.01      0.86               cloudy   \n",
      "22                59.00        0.95     54.03      0.84               cloudy   \n",
      "23                59.27        0.89     53.50      0.81    partly-cloudy-day   \n",
      "24                61.03        0.73     54.15      0.78    partly-cloudy-day   \n",
      "25                61.16        0.58     53.31      0.75    partly-cloudy-day   \n",
      "26                60.52        0.43     51.92      0.73    partly-cloudy-day   \n",
      "27                59.60        0.30     50.52      0.72    partly-cloudy-day   \n",
      "28                58.61        0.23     49.57      0.72            clear-day   \n",
      "29                57.32        0.23     49.07      0.74            clear-day   \n",
      "30                55.71        0.32     48.76      0.77  partly-cloudy-night   \n",
      "31                54.45        0.38     48.58      0.81  partly-cloudy-night   \n",
      "32                53.70        0.37     48.56      0.83  partly-cloudy-night   \n",
      "33                53.21        0.35     48.64      0.84  partly-cloudy-night   \n",
      "34                52.84        0.34     48.70      0.86  partly-cloudy-night   \n",
      "35                52.68        0.34     48.76      0.86  partly-cloudy-night   \n",
      "36                52.79        0.35     48.94      0.87  partly-cloudy-night   \n",
      "37                53.03        0.37     49.20      0.87  partly-cloudy-night   \n",
      "38                53.09        0.39     49.31      0.87  partly-cloudy-night   \n",
      "39                52.63        0.41     48.89      0.87  partly-cloudy-night   \n",
      "40                51.77        0.42     48.02      0.87  partly-cloudy-night   \n",
      "41                50.75        0.43     47.07      0.87  partly-cloudy-night   \n",
      "42                50.14        0.42     46.48      0.87    partly-cloudy-day   \n",
      "43                51.05        0.41     46.96      0.86    partly-cloudy-day   \n",
      "44                53.34        0.39     48.01      0.82    partly-cloudy-day   \n",
      "45                56.05        0.37     48.91      0.77    partly-cloudy-day   \n",
      "46                58.13        0.35     49.29      0.72    partly-cloudy-day   \n",
      "47                59.56        0.32     49.32      0.69    partly-cloudy-day   \n",
      "48                60.87        0.29     49.41      0.66    partly-cloudy-day   \n",
      "\n",
      "     ozone  precipIntensity  precipProbability precipType  pressure  \\\n",
      "0   255.95           0.0000               0.00        NaN   1016.44   \n",
      "1   256.73           0.0000               0.00        NaN   1016.61   \n",
      "2   258.23           0.0000               0.00        NaN   1016.74   \n",
      "3   260.12           0.0023               0.06       rain   1016.90   \n",
      "4   261.69           0.0011               0.02       rain   1017.25   \n",
      "5   262.62           0.0000               0.00        NaN   1017.91   \n",
      "6   263.24           0.0000               0.00        NaN   1018.75   \n",
      "7   263.84           0.0014               0.03       rain   1019.55   \n",
      "8   264.62           0.0000               0.00        NaN   1020.29   \n",
      "9   265.37           0.0000               0.00        NaN   1021.00   \n",
      "10  265.84           0.0000               0.00        NaN   1021.64   \n",
      "11  265.85           0.0000               0.00        NaN   1022.22   \n",
      "12  265.58           0.0000               0.00        NaN   1022.74   \n",
      "13  265.18           0.0000               0.00        NaN   1023.16   \n",
      "14  264.64           0.0000               0.00        NaN   1023.44   \n",
      "15  263.98           0.0000               0.00        NaN   1023.65   \n",
      "16  263.39           0.0000               0.00        NaN   1023.94   \n",
      "17  262.89           0.0000               0.00        NaN   1024.40   \n",
      "18  262.46           0.0010               0.01       rain   1025.00   \n",
      "19  262.29           0.0015               0.03       rain   1025.59   \n",
      "20  262.63           0.0016               0.03       rain   1026.19   \n",
      "21  263.23           0.0015               0.03       rain   1026.78   \n",
      "22  263.45           0.0014               0.02       rain   1027.21   \n",
      "23  262.90           0.0013               0.02       rain   1027.42   \n",
      "24  261.98           0.0013               0.02       rain   1027.48   \n",
      "25  261.22           0.0013               0.02       rain   1027.45   \n",
      "26  260.81           0.0013               0.02       rain   1027.28   \n",
      "27  260.57           0.0012               0.02       rain   1027.01   \n",
      "28  260.53           0.0012               0.02       rain   1026.87   \n",
      "29  260.80           0.0012               0.02       rain   1027.00   \n",
      "30  261.27           0.0013               0.02       rain   1027.21   \n",
      "31  261.65           0.0014               0.02       rain   1027.42   \n",
      "32  261.79           0.0014               0.02       rain   1027.68   \n",
      "33  261.83           0.0014               0.02       rain   1027.97   \n",
      "34  261.86           0.0014               0.02       rain   1028.12   \n",
      "35  261.88           0.0014               0.02       rain   1028.06   \n",
      "36  261.90           0.0014               0.02       rain   1027.87   \n",
      "37  262.03           0.0014               0.02       rain   1027.65   \n",
      "38  262.34           0.0014               0.02       rain   1027.40   \n",
      "39  262.76           0.0013               0.02       rain   1027.12   \n",
      "40  263.24           0.0012               0.02       rain   1026.96   \n",
      "41  263.81           0.0012               0.02       rain   1027.03   \n",
      "42  264.43           0.0011               0.02       rain   1027.21   \n",
      "43  264.97           0.0010               0.01       rain   1027.33   \n",
      "44  265.34           0.0009               0.01       rain   1027.33   \n",
      "45  265.63           0.0008               0.01       rain   1027.26   \n",
      "46  265.97           0.0000               0.00        NaN   1027.09   \n",
      "47  266.37           0.0000               0.00        NaN   1026.80   \n",
      "48  266.81           0.0000               0.00        NaN   1026.43   \n",
      "\n",
      "          summary  temperature        time  visibility  windBearing  windSpeed  \n",
      "0   Partly Cloudy        67.74  1475514000        9.58           54       3.11  \n",
      "1   Partly Cloudy        67.43  1475517600        9.42           70       4.65  \n",
      "2   Partly Cloudy        67.22  1475521200        9.47           64       5.75  \n",
      "3   Partly Cloudy        66.00  1475524800        9.41           61       6.77  \n",
      "4   Partly Cloudy        63.94  1475528400        9.24           60       7.52  \n",
      "5   Partly Cloudy        62.22  1475532000        9.03           60       7.41  \n",
      "6   Partly Cloudy        60.27  1475535600        8.62           55       7.50  \n",
      "7   Partly Cloudy        59.70  1475539200        8.62           53       7.43  \n",
      "8   Mostly Cloudy        58.93  1475542800        8.70           51       7.52  \n",
      "9   Mostly Cloudy        58.30  1475546400        8.72           48       8.01  \n",
      "10  Mostly Cloudy        58.14  1475550000        8.73           47       8.22  \n",
      "11  Mostly Cloudy        57.51  1475553600        8.74           42       8.47  \n",
      "12  Mostly Cloudy        57.80  1475557200        8.70           40       8.91  \n",
      "13  Mostly Cloudy        57.14  1475560800        8.71           34       9.28  \n",
      "14  Mostly Cloudy        57.01  1475564400        8.77           33       8.98  \n",
      "15  Mostly Cloudy        56.96  1475568000        8.78           27       9.22  \n",
      "16  Mostly Cloudy        57.02  1475571600        8.73           24       9.55  \n",
      "17  Mostly Cloudy        57.01  1475575200        8.74           27      10.06  \n",
      "18  Mostly Cloudy        57.15  1475578800        9.23           31      10.75  \n",
      "19  Mostly Cloudy        57.55  1475582400        9.58           33      11.26  \n",
      "20       Overcast        57.86  1475586000        9.78           33      11.68  \n",
      "21       Overcast        58.25  1475589600        9.89           37      11.59  \n",
      "22       Overcast        59.00  1475593200       10.00           41      11.63  \n",
      "23  Mostly Cloudy        59.27  1475596800       10.00           40      11.84  \n",
      "24  Mostly Cloudy        61.03  1475600400       10.00           37      12.54  \n",
      "25  Partly Cloudy        61.16  1475604000       10.00           35      12.76  \n",
      "26  Partly Cloudy        60.52  1475607600       10.00           32      12.61  \n",
      "27  Partly Cloudy        59.60  1475611200       10.00           31      12.31  \n",
      "28          Clear        58.61  1475614800       10.00           30      11.86  \n",
      "29          Clear        57.32  1475618400       10.00           28      11.29  \n",
      "30  Partly Cloudy        55.71  1475622000       10.00           27      10.38  \n",
      "31  Partly Cloudy        54.45  1475625600       10.00           26       9.66  \n",
      "32  Partly Cloudy        53.70  1475629200       10.00           24       9.30  \n",
      "33  Partly Cloudy        53.21  1475632800       10.00           23       9.14  \n",
      "34  Partly Cloudy        52.84  1475636400       10.00           21       8.98  \n",
      "35  Partly Cloudy        52.68  1475640000       10.00           17       8.82  \n",
      "36  Partly Cloudy        52.79  1475643600       10.00           14       8.70  \n",
      "37  Partly Cloudy        53.03  1475647200       10.00           10       8.64  \n",
      "38  Partly Cloudy        53.09  1475650800       10.00            7       8.68  \n",
      "39  Partly Cloudy        52.63  1475654400       10.00            4       8.80  \n",
      "40  Partly Cloudy        51.77  1475658000       10.00            3       8.95  \n",
      "41  Partly Cloudy        50.75  1475661600       10.00            3       9.15  \n",
      "42  Partly Cloudy        50.14  1475665200       10.00            2       9.34  \n",
      "43  Partly Cloudy        51.05  1475668800       10.00            3       9.44  \n",
      "44  Partly Cloudy        53.34  1475672400       10.00            9       9.49  \n",
      "45  Partly Cloudy        56.05  1475676000       10.00           17       9.63  \n",
      "46  Partly Cloudy        58.13  1475679600       10.00           22       9.77  \n",
      "47  Partly Cloudy        59.56  1475683200       10.00           27       9.92  \n",
      "48  Partly Cloudy        60.87  1475686800       10.00           31      10.05  \n"
     ]
    }
   ],
   "source": [
    "print hourly_df"
   ]
  },
  {
   "cell_type": "code",
   "execution_count": 223,
   "metadata": {
    "collapsed": true
   },
   "outputs": [],
   "source": [
    "#export dataframe\n",
    "hourly_df.to_csv('hourly_forecast.csv')"
   ]
  },
  {
   "cell_type": "markdown",
   "metadata": {},
   "source": [
    "#minute-by-minute forecast"
   ]
  },
  {
   "cell_type": "code",
   "execution_count": 197,
   "metadata": {
    "collapsed": false
   },
   "outputs": [
    {
     "name": "stdout",
     "output_type": "stream",
     "text": [
      "There are  61  minutes\n",
      "Lengths: \n",
      "[3, 3, 3, 3, 3, 3, 3, 3, 3, 3, 3, 3, 3, 3, 3, 3, 3, 3, 3, 3, 3, 3, 3, 3, 3, 3, 3, 3, 3, 3, 3, 3, 3, 3, 3, 3, 3, 3, 3, 3, 3, 3, 3, 3, 3, 3, 3, 3, 3, 3, 3, 3, 3, 3, 3, 3, 3, 3, 3, 3, 3]\n"
     ]
    }
   ],
   "source": [
    "print \"There are \",len(la_homey_json['minutely']['data']),\" minutes\"\n",
    "#check if the data blocks are of the same length\n",
    "print \"Lengths: \"\n",
    "minute_details = []\n",
    "for i in range(len(la_homey_json['minutely']['data'])):\n",
    "    minute_data_temp = len(la_homey_json['minutely']['data'][i].keys())\n",
    "    minute_details.append(minute_data_temp)\n",
    "print minute_details  "
   ]
  },
  {
   "cell_type": "code",
   "execution_count": 193,
   "metadata": {
    "collapsed": false
   },
   "outputs": [
    {
     "data": {
      "text/plain": [
       "True"
      ]
     },
     "execution_count": 193,
     "metadata": {},
     "output_type": "execute_result"
    }
   ],
   "source": [
    "sum([minute_details[i] == minute_details[1] for i in range(len(minute_details))])==len(minute_details)"
   ]
  },
  {
   "cell_type": "markdown",
   "metadata": {},
   "source": [
    "##meaning all data blocks here contain the same info"
   ]
  },
  {
   "cell_type": "code",
   "execution_count": 228,
   "metadata": {
    "collapsed": true
   },
   "outputs": [],
   "source": [
    "minute_df = pandas.DataFrame(la_homey_json['minutely']['data'])"
   ]
  },
  {
   "cell_type": "code",
   "execution_count": 215,
   "metadata": {
    "collapsed": false
   },
   "outputs": [
    {
     "name": "stdout",
     "output_type": "stream",
     "text": [
      "    precipIntensity  precipProbability        time\n",
      "0                 0                  0  1475515440\n",
      "1                 0                  0  1475515500\n",
      "2                 0                  0  1475515560\n",
      "3                 0                  0  1475515620\n",
      "4                 0                  0  1475515680\n",
      "5                 0                  0  1475515740\n",
      "6                 0                  0  1475515800\n",
      "7                 0                  0  1475515860\n",
      "8                 0                  0  1475515920\n",
      "9                 0                  0  1475515980\n",
      "10                0                  0  1475516040\n",
      "11                0                  0  1475516100\n",
      "12                0                  0  1475516160\n",
      "13                0                  0  1475516220\n",
      "14                0                  0  1475516280\n",
      "15                0                  0  1475516340\n",
      "16                0                  0  1475516400\n",
      "17                0                  0  1475516460\n",
      "18                0                  0  1475516520\n",
      "19                0                  0  1475516580\n",
      "20                0                  0  1475516640\n",
      "21                0                  0  1475516700\n",
      "22                0                  0  1475516760\n",
      "23                0                  0  1475516820\n",
      "24                0                  0  1475516880\n",
      "25                0                  0  1475516940\n",
      "26                0                  0  1475517000\n",
      "27                0                  0  1475517060\n",
      "28                0                  0  1475517120\n",
      "29                0                  0  1475517180\n",
      "..              ...                ...         ...\n",
      "31                0                  0  1475517300\n",
      "32                0                  0  1475517360\n",
      "33                0                  0  1475517420\n",
      "34                0                  0  1475517480\n",
      "35                0                  0  1475517540\n",
      "36                0                  0  1475517600\n",
      "37                0                  0  1475517660\n",
      "38                0                  0  1475517720\n",
      "39                0                  0  1475517780\n",
      "40                0                  0  1475517840\n",
      "41                0                  0  1475517900\n",
      "42                0                  0  1475517960\n",
      "43                0                  0  1475518020\n",
      "44                0                  0  1475518080\n",
      "45                0                  0  1475518140\n",
      "46                0                  0  1475518200\n",
      "47                0                  0  1475518260\n",
      "48                0                  0  1475518320\n",
      "49                0                  0  1475518380\n",
      "50                0                  0  1475518440\n",
      "51                0                  0  1475518500\n",
      "52                0                  0  1475518560\n",
      "53                0                  0  1475518620\n",
      "54                0                  0  1475518680\n",
      "55                0                  0  1475518740\n",
      "56                0                  0  1475518800\n",
      "57                0                  0  1475518860\n",
      "58                0                  0  1475518920\n",
      "59                0                  0  1475518980\n",
      "60                0                  0  1475519040\n",
      "\n",
      "[61 rows x 3 columns]\n"
     ]
    }
   ],
   "source": [
    "print minute_df"
   ]
  },
  {
   "cell_type": "code",
   "execution_count": 224,
   "metadata": {
    "collapsed": false
   },
   "outputs": [],
   "source": [
    "#export dataframe\n",
    "minute_df.to_csv('minutely_forecast.csv')"
   ]
  }
 ],
 "metadata": {
  "kernelspec": {
   "display_name": "Python 2",
   "language": "python",
   "name": "python2"
  },
  "language_info": {
   "codemirror_mode": {
    "name": "ipython",
    "version": 2
   },
   "file_extension": ".py",
   "mimetype": "text/x-python",
   "name": "python",
   "nbconvert_exporter": "python",
   "pygments_lexer": "ipython2",
   "version": "2.7.11+"
  }
 },
 "nbformat": 4,
 "nbformat_minor": 0
}
